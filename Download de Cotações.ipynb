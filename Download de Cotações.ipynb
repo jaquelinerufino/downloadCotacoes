{
 "cells": [
  {
   "cell_type": "markdown",
   "id": "bc133d99",
   "metadata": {},
   "source": [
    "# Download de Cotação"
   ]
  },
  {
   "cell_type": "markdown",
   "id": "a9de1efb",
   "metadata": {},
   "source": [
    "## bibliotecas "
   ]
  },
  {
   "cell_type": "code",
   "execution_count": null,
   "id": "a840115b",
   "metadata": {},
   "outputs": [],
   "source": []
  },
  {
   "cell_type": "markdown",
   "id": "b2488080",
   "metadata": {},
   "source": [
    "## baixacotacoes"
   ]
  },
  {
   "cell_type": "code",
   "execution_count": 1,
   "id": "e0c63528",
   "metadata": {},
   "outputs": [],
   "source": [
    "def baixacotacoes(data, caminho):\n",
    "    \n",
    "    # importação de bibliotecas\n",
    "    from selenium import webdriver\n",
    "    from selenium.webdriver.common.by import By\n",
    "    from selenium.webdriver.support.wait import WebDriverWait\n",
    "    from selenium.webdriver.support import expected_conditions as EC\n",
    "    from selenium.webdriver.edge import options as EdgeOptions\n",
    "    import time\n",
    "    import os.path\n",
    "\n",
    "    # configura navegador\n",
    "    options = EdgeOptions.Options()\n",
    "        \n",
    "    options.use_chromium = True\n",
    "        \n",
    "    options.add_experimental_option(\"prefs\", {\"download.default_directory\": caminho})\n",
    "    \n",
    "    driver = webdriver.Edge(options= options)\n",
    "    \n",
    "    driver.minimize_window()\n",
    "    \n",
    "    # baixa o arquivo\n",
    "    driver.get(\"https://www.bcb.gov.br/estabilidadefinanceira/historicocotacoes\")\n",
    "    \n",
    "    botao_cookies = \"/html/body/app-root/bcb-cookies/div/div/div/div/button[2]\"\n",
    "\n",
    "    WebDriverWait(driver, 10).until(EC.element_to_be_clickable((By.XPATH, botao_cookies))).click()\n",
    "    \n",
    "    iframe = driver.find_element(By.CSS_SELECTOR, \"iframe\")\n",
    "    driver.switch_to.frame(iframe)\n",
    "    \n",
    "    radio = driver.find_element(By.XPATH,\"//input[@type='radio'][@value='2']\")\n",
    "\n",
    "    botao = driver.find_element(By.XPATH,\"//input[@type='submit']\")\n",
    "    \n",
    "    radio.click()\n",
    "    \n",
    "    datainicial = driver.find_element(By.ID, \"DATAINI\")\n",
    "    datainicial.clear()\n",
    "    datainicial.send_keys(data)\n",
    "    \n",
    "    driver.implicitly_wait(0.5)\n",
    "    WebDriverWait(driver, 10).until(EC.element_to_be_clickable(botao)).click()\n",
    "    \n",
    "    link = driver.find_element(By.PARTIAL_LINK_TEXT, \"CSV\")\n",
    "    link.click()\n",
    "    \n",
    "    file_path = caminho + \"cotacaoTodasAsMoedas_\" + data + \".csv\"\n",
    "\n",
    "    while not os.path.exists(file_path):\n",
    "        time.sleep(1)\n",
    "        \n",
    "    driver.quit()"
   ]
  },
  {
   "cell_type": "markdown",
   "id": "7f663c64",
   "metadata": {},
   "source": [
    "## executaCotacoes "
   ]
  },
  {
   "cell_type": "code",
   "execution_count": 2,
   "id": "44812f64",
   "metadata": {},
   "outputs": [],
   "source": [
    "def executaCotacoes(mes, ano, caminho):\n",
    "    \n",
    "    import holidays\n",
    "    from datetime import datetime, timedelta\n",
    "    import calendar\n",
    "    \n",
    "    feriados = holidays.BR()\n",
    "    datatexto = '01/'+ mes + '/' + ano\n",
    "    erro = 0\n",
    "\n",
    "    dataInicial = datetime.strptime(datatexto,\"%d/%m/%Y\").date()\n",
    "\n",
    "    hoje = datetime.now().date()\n",
    "\n",
    "    _, lastday = calendar.monthrange(dataInicial.year, dataInicial.month)\n",
    "    fimMes = datetime(dataInicial.year, dataInicial.month, lastday).date()\n",
    "\n",
    "    if hoje.year < dataInicial.year:\n",
    "        print ('Erro: Não é possível baixar cotações de anos futuros.')\n",
    "        erro = 1\n",
    "    elif hoje.year == dataInicial.year and hoje.month < dataInicial.month:\n",
    "        print ('Erro: Não é possível baixar cotações de meses futuros.')\n",
    "        erro = 1\n",
    "    elif hoje == fimMes:\n",
    "        dataFinal = hoje - timedelta(days = 1)\n",
    "    elif hoje.year == dataInicial.year and hoje.month == dataInicial.month and hoje < fimMes:\n",
    "        dataFinal = datetime(dataInicial.year, dataInicial.month, hoje.day).date()\n",
    "    else:\n",
    "        dataFinal = fimMes.date() + timedelta(days = 1)\n",
    "\n",
    "    if erro == 0:\n",
    "\n",
    "        while dataInicial < dataFinal:\n",
    "    \n",
    "            aux = 0\n",
    "    \n",
    "            while aux == 0:\n",
    "                if dataInicial.weekday() == 5:\n",
    "                    dataInicial = dataInicial + timedelta(days = 2)\n",
    "                elif dataInicial.weekday() == 6:\n",
    "                    dataInicial = dataInicial + timedelta(days = 1)\n",
    "                elif dataInicial in feriados:\n",
    "                    dataInicial = dataInicial + timedelta(days = 1)\n",
    "                else:\n",
    "                    aux = 1\n",
    "    \n",
    "            dataString = dataInicial.strftime(\"%d%m%Y\")\n",
    "            try:\n",
    "                baixacotacoes(dataString, caminho)\n",
    "            except Exception as e:\n",
    "                print('Finalizado com erro: ' + e)\n",
    "            else:\n",
    "                print('Arquivo finalizado com sucesso: ' + dataInicial.strftime(\"%d/%m/%y\"))\n",
    "            \n",
    "            dataInicial = dataInicial + timedelta(days = 1)\n",
    "        "
   ]
  },
  {
   "cell_type": "markdown",
   "id": "0e60480e",
   "metadata": {},
   "source": [
    "## geraInsert"
   ]
  },
  {
   "cell_type": "code",
   "execution_count": 3,
   "id": "2e33ce06",
   "metadata": {},
   "outputs": [],
   "source": [
    "def geraInsert(dataframe, tabela):\n",
    "    \n",
    "    import re\n",
    "\n",
    "    insert = \"INSERT INTO {tabela} (\".format(tabela = tabela)\n",
    "\n",
    "    colunas = str(list(dataframe.columns))[1:-1]\n",
    "    colunas = re.sub(r\"\\'\", \"\", colunas)\n",
    "\n",
    "    valores = \"\"\n",
    "\n",
    "    for linha in dataframe.itertuples(index=False, name=None):\n",
    "        valores += insert + colunas + \") values \"\n",
    "        valores += re.sub(r\"nan\", \"null\", str(linha))\n",
    "        valores += \",\\n\"\n",
    "\n",
    "    return valores[:-2]"
   ]
  },
  {
   "cell_type": "markdown",
   "id": "2fb59353",
   "metadata": {},
   "source": [
    "## Lê arquivos"
   ]
  },
  {
   "cell_type": "code",
   "execution_count": 4,
   "id": "81e47c0a",
   "metadata": {},
   "outputs": [],
   "source": [
    "def leArquivos(mes, ano, caminho):\n",
    "\n",
    "    import pandas as pd\n",
    "    import glob\n",
    "\n",
    "    caminhoExtensao = caminho + '*.csv'\n",
    "    arquivos = []\n",
    "    arquivo = ''\n",
    "    dados = pd.DataFrame(columns=['COT_DATA','COT_ID', 'tipo', 'moeda', 'COT_COMPRA', 'COT_VENDA', 'COT_COMPRA_USD', 'COT_VENDA_USD'])\n",
    "    \n",
    "    caminhoArquivos = glob.glob(caminhoExtensao)\n",
    "    \n",
    "    for i in caminhoArquivos:\n",
    "        arquivos.append(i.replace(caminho[:caminho[:-1].rfind('/')+ 1] , '')) \n",
    "        \n",
    "    arquivos.sort()\n",
    "    \n",
    "    while len(arquivos) > 0:\n",
    "        arquivo = arquivos[0]\n",
    "        aux = pd.read_csv(arquivo, delimiter=';', index_col=None, decimal=',',names=['COT_DATA','COT_ID', 'tipo', 'moeda', 'COT_COMPRA', 'COT_VENDA', 'COT_COMPRA_USD', 'COT_VENDA_USD'], dtype={'COT_DATA':str,'COT_ID':str, 'tipo':str, 'moeda':str, 'COT_COMPRA':float, 'COT_VENDA':float, 'COT_COMPRA_USD':float, 'COT_VENDA_USD':float})\n",
    "        arquivos.remove(arquivo)\n",
    "        dados = pd.concat([dados, aux], ignore_index=True)\n",
    "        \n",
    "    for i in dados.index:\n",
    "        dataFormatada = dados['COT_DATA'][i]\n",
    "        dataFormatada = dataFormatada[-4:] + dataFormatada[2:4] + dataFormatada[:2]\n",
    "        dados.at[i, 'COT_DATA'] = dataFormatada\n",
    "        \n",
    "    dadosFinal = dados[['COT_ID','COT_DATA','COT_COMPRA','COT_VENDA','COT_COMPRA_USD', 'COT_VENDA_USD']]\n",
    "    \n",
    "    texto = geraInsert(dadosFinal, 'tp_master.dbo.I_COTACOES' )\n",
    "        \n",
    "    return texto"
   ]
  },
  {
   "cell_type": "markdown",
   "id": "c5144f38",
   "metadata": {},
   "source": [
    "## geraCotacoes"
   ]
  },
  {
   "cell_type": "code",
   "execution_count": 5,
   "id": "27f0c0af",
   "metadata": {},
   "outputs": [],
   "source": [
    "def geraCotacoes(mes, ano, caminho):\n",
    "\n",
    "    caminho += chr(47)\n",
    "\n",
    "    executaCotacoes(mes, ano, caminho)\n",
    "    \n",
    "    arquivo = open(caminho + \"cotacoes_\" + ano + mes + \".sql\", \"w\")\n",
    "\n",
    "    arquivo.write(leArquivos(mes, ano, caminho))\n",
    "    \n",
    "    arquivo.close()\n",
    "    "
   ]
  },
  {
   "cell_type": "markdown",
   "id": "70a071ef",
   "metadata": {},
   "source": [
    "## Execução"
   ]
  },
  {
   "cell_type": "code",
   "execution_count": 6,
   "id": "38d55dd8",
   "metadata": {},
   "outputs": [],
   "source": [
    "mes = '07'\n",
    "ano = '2023'\n",
    "caminho = '/Users/jaquelinerufino/Desktop/Estudos/cotacoes/data'"
   ]
  },
  {
   "cell_type": "code",
   "execution_count": 7,
   "id": "95d5ed77",
   "metadata": {
    "scrolled": true
   },
   "outputs": [
    {
     "ename": "TypeError",
     "evalue": "can only concatenate str (not \"datetime.date\") to str",
     "output_type": "error",
     "traceback": [
      "\u001b[0;31m---------------------------------------------------------------------------\u001b[0m",
      "\u001b[0;31mTypeError\u001b[0m                                 Traceback (most recent call last)",
      "Cell \u001b[0;32mIn[7], line 1\u001b[0m\n\u001b[0;32m----> 1\u001b[0m geraCotacoes(mes, ano, caminho)\n",
      "Cell \u001b[0;32mIn[5], line 5\u001b[0m, in \u001b[0;36mgeraCotacoes\u001b[0;34m(mes, ano, caminho)\u001b[0m\n\u001b[1;32m      1\u001b[0m \u001b[39mdef\u001b[39;00m \u001b[39mgeraCotacoes\u001b[39m(mes, ano, caminho):\n\u001b[1;32m      3\u001b[0m     caminho \u001b[39m+\u001b[39m\u001b[39m=\u001b[39m \u001b[39mchr\u001b[39m(\u001b[39m47\u001b[39m)\n\u001b[0;32m----> 5\u001b[0m     executaCotacoes(mes, ano, caminho)\n\u001b[1;32m      7\u001b[0m     arquivo \u001b[39m=\u001b[39m \u001b[39mopen\u001b[39m(caminho \u001b[39m+\u001b[39m \u001b[39m\"\u001b[39m\u001b[39mcotacoes_\u001b[39m\u001b[39m\"\u001b[39m \u001b[39m+\u001b[39m ano \u001b[39m+\u001b[39m mes \u001b[39m+\u001b[39m \u001b[39m\"\u001b[39m\u001b[39m.sql\u001b[39m\u001b[39m\"\u001b[39m, \u001b[39m\"\u001b[39m\u001b[39mw\u001b[39m\u001b[39m\"\u001b[39m)\n\u001b[1;32m      9\u001b[0m     arquivo\u001b[39m.\u001b[39mwrite(leArquivos(mes, ano, caminho))\n",
      "Cell \u001b[0;32mIn[2], line 53\u001b[0m, in \u001b[0;36mexecutaCotacoes\u001b[0;34m(mes, ano, caminho)\u001b[0m\n\u001b[1;32m     51\u001b[0m     \u001b[39mprint\u001b[39m(\u001b[39m'\u001b[39m\u001b[39mFinalizado com erro: \u001b[39m\u001b[39m'\u001b[39m \u001b[39m+\u001b[39m e)\n\u001b[1;32m     52\u001b[0m \u001b[39melse\u001b[39;00m:\n\u001b[0;32m---> 53\u001b[0m     \u001b[39mprint\u001b[39m(\u001b[39m'\u001b[39;49m\u001b[39mArquivo finalizado com sucesso: \u001b[39;49m\u001b[39m'\u001b[39;49m \u001b[39m+\u001b[39;49m dataInicial)\n\u001b[1;32m     55\u001b[0m dataInicial \u001b[39m=\u001b[39m dataInicial \u001b[39m+\u001b[39m timedelta(days \u001b[39m=\u001b[39m \u001b[39m1\u001b[39m)\n",
      "\u001b[0;31mTypeError\u001b[0m: can only concatenate str (not \"datetime.date\") to str"
     ]
    }
   ],
   "source": [
    "geraCotacoes(mes, ano, caminho)"
   ]
  },
  {
   "cell_type": "code",
   "execution_count": null,
   "id": "5835d687",
   "metadata": {},
   "outputs": [],
   "source": []
  }
 ],
 "metadata": {
  "kernelspec": {
   "display_name": "Python 3 (ipykernel)",
   "language": "python",
   "name": "python3"
  },
  "language_info": {
   "codemirror_mode": {
    "name": "ipython",
    "version": 3
   },
   "file_extension": ".py",
   "mimetype": "text/x-python",
   "name": "python",
   "nbconvert_exporter": "python",
   "pygments_lexer": "ipython3",
   "version": "3.11.2"
  }
 },
 "nbformat": 4,
 "nbformat_minor": 5
}
