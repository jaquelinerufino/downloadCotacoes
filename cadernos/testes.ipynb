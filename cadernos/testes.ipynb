{
 "cells": [
  {
   "cell_type": "code",
   "execution_count": null,
   "metadata": {},
   "outputs": [],
   "source": [
    "import holidays  as feriadosNacionais"
   ]
  },
  {
   "cell_type": "code",
   "execution_count": null,
   "metadata": {},
   "outputs": [],
   "source": [
    "feriados = feriadosNacionais.BR()"
   ]
  },
  {
   "cell_type": "code",
   "execution_count": null,
   "metadata": {},
   "outputs": [],
   "source": [
    "feriadosNacionais"
   ]
  },
  {
   "cell_type": "code",
   "execution_count": null,
   "metadata": {},
   "outputs": [],
   "source": [
    "from datetime import datetime, timedelta\n",
    "dataInicial = datetime.strptime(\"01/11/2023\",\"%d/%m/%Y\").date()"
   ]
  },
  {
   "cell_type": "code",
   "execution_count": null,
   "metadata": {},
   "outputs": [],
   "source": [
    "from datetime import datetime, timedelta\n",
    "import calendar"
   ]
  },
  {
   "cell_type": "code",
   "execution_count": null,
   "metadata": {},
   "outputs": [],
   "source": [
    "mes = \"11\"\n",
    "ano = \"2024\"\n",
    "\n",
    "hoje = datetime.now().date()\n",
    "\n",
    "mesAno = \"/\" + mes + \"/\" + ano\n",
    "\n",
    "ano = int(ano)\n",
    "mes = int(mes)\n",
    "\n",
    "calendario = calendar.monthcalendar(ano, mes)\n",
    "\n",
    "datas = []\n",
    "for i in calendario:\n",
    "    for j in i:\n",
    "        if (j > 0):\n",
    "            data = str(j) + mesAno\n",
    "            data = datetime.strptime(data,\"%d/%m/%Y\").date()\n",
    "            \n",
    "            # print(\"a data {} percente ao dia da semana {}\".format(data, data.weekday()))\n",
    "            \n",
    "            if (data.weekday() != 5) and (data.weekday() != 6) and (data not in feriados) and (data < hoje):  #sábado\n",
    "                datas.append(data)\n",
    "                    \n",
    "datas.sort()\n",
    "\n",
    "datas"
   ]
  },
  {
   "cell_type": "code",
   "execution_count": null,
   "metadata": {},
   "outputs": [],
   "source": [
    "n = '24'\n",
    "print(n.zfill(3))"
   ]
  },
  {
   "cell_type": "code",
   "execution_count": 22,
   "metadata": {},
   "outputs": [],
   "source": [
    "from functions.classCotacoes import Cotacoes\n",
    "\n",
    "funcoes = Cotacoes()\n",
    "\n",
    "mes = '10'\n",
    "ano = '2023'\n",
    "caminho = '/Users/jaquelinerufino/Desktop/Estudos/cotacoes/data'\n",
    "\n",
    "caminho += chr(47)\n",
    "\n",
    "\n",
    "datas = funcoes.removeDataInvalida(ano=ano, mes=mes)"
   ]
  },
  {
   "cell_type": "code",
   "execution_count": 23,
   "metadata": {},
   "outputs": [
    {
     "name": "stdout",
     "output_type": "stream",
     "text": [
      "[datetime.date(2023, 10, 31)]\n"
     ]
    }
   ],
   "source": [
    "print(datas)"
   ]
  },
  {
   "cell_type": "code",
   "execution_count": null,
   "metadata": {},
   "outputs": [],
   "source": []
  }
 ],
 "metadata": {
  "kernelspec": {
   "display_name": "Python 3",
   "language": "python",
   "name": "python3"
  },
  "language_info": {
   "codemirror_mode": {
    "name": "ipython",
    "version": 3
   },
   "file_extension": ".py",
   "mimetype": "text/x-python",
   "name": "python",
   "nbconvert_exporter": "python",
   "pygments_lexer": "ipython3",
   "version": "3.11.2"
  }
 },
 "nbformat": 4,
 "nbformat_minor": 2
}
