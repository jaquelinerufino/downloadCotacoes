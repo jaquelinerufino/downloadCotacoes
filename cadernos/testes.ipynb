{
 "cells": [
  {
   "cell_type": "code",
   "execution_count": null,
   "metadata": {},
   "outputs": [],
   "source": [
    "import holidays  as feriadosNacionais"
   ]
  },
  {
   "cell_type": "code",
   "execution_count": null,
   "metadata": {},
   "outputs": [],
   "source": [
    "feriados = feriadosNacionais.BR()"
   ]
  },
  {
   "cell_type": "code",
   "execution_count": null,
   "metadata": {},
   "outputs": [],
   "source": [
    "feriadosNacionais"
   ]
  },
  {
   "cell_type": "code",
   "execution_count": null,
   "metadata": {},
   "outputs": [],
   "source": [
    "from datetime import datetime, timedelta\n",
    "dataInicial = datetime.strptime(\"01/11/2023\",\"%d/%m/%Y\").date()"
   ]
  },
  {
   "cell_type": "code",
   "execution_count": null,
   "metadata": {},
   "outputs": [],
   "source": [
    "from datetime import datetime, timedelta\n",
    "import calendar"
   ]
  },
  {
   "cell_type": "code",
   "execution_count": 5,
   "metadata": {},
   "outputs": [
    {
     "data": {
      "text/plain": [
       "[datetime.date(2023, 10, 2),\n",
       " datetime.date(2023, 10, 3),\n",
       " datetime.date(2023, 10, 4),\n",
       " datetime.date(2023, 10, 5),\n",
       " datetime.date(2023, 10, 6),\n",
       " datetime.date(2023, 10, 9),\n",
       " datetime.date(2023, 10, 10),\n",
       " datetime.date(2023, 10, 11),\n",
       " datetime.date(2023, 10, 13),\n",
       " datetime.date(2023, 10, 16),\n",
       " datetime.date(2023, 10, 17),\n",
       " datetime.date(2023, 10, 18),\n",
       " datetime.date(2023, 10, 19),\n",
       " datetime.date(2023, 10, 20),\n",
       " datetime.date(2023, 10, 23),\n",
       " datetime.date(2023, 10, 24),\n",
       " datetime.date(2023, 10, 25),\n",
       " datetime.date(2023, 10, 26),\n",
       " datetime.date(2023, 10, 27),\n",
       " datetime.date(2023, 10, 30),\n",
       " datetime.date(2023, 10, 31)]"
      ]
     },
     "execution_count": 5,
     "metadata": {},
     "output_type": "execute_result"
    }
   ],
   "source": [
    "from datetime import datetime, timedelta\n",
    "import calendar\n",
    "import holidays\n",
    "\n",
    "feriados = holidays.BR()\n",
    "\n",
    "mes = \"10\"\n",
    "ano = \"2023\"\n",
    "\n",
    "hoje = datetime.now().date()\n",
    "\n",
    "mesAno = \"/\" + mes + \"/\" + ano\n",
    "\n",
    "ano = int(ano)\n",
    "mes = int(mes)\n",
    "\n",
    "calendario = calendar.monthcalendar(ano, mes)\n",
    "\n",
    "datas = []\n",
    "for i in calendario:\n",
    "    for j in i:\n",
    "        if (j > 0):\n",
    "            data = str(j) + mesAno\n",
    "            data = datetime.strptime(data,\"%d/%m/%Y\").date()\n",
    "            \n",
    "            # print(\"a data {} percente ao dia da semana {}\".format(data, data.weekday()))\n",
    "            \n",
    "            if (data.weekday() != 5) and (data.weekday() != 6) and (data not in feriados) and (data < hoje):  #sábado\n",
    "                datas.append(data)\n",
    "                    \n",
    "datas.sort()\n",
    "\n",
    "datas"
   ]
  },
  {
   "cell_type": "code",
   "execution_count": 6,
   "metadata": {},
   "outputs": [
    {
     "data": {
      "text/plain": [
       "datetime.date(2023, 10, 31)"
      ]
     },
     "execution_count": 6,
     "metadata": {},
     "output_type": "execute_result"
    }
   ],
   "source": [
    "datas[-1]"
   ]
  },
  {
   "cell_type": "code",
   "execution_count": null,
   "metadata": {},
   "outputs": [],
   "source": [
    "mes = '10'\n",
    "ano = '2023'\n",
    "caminho = '/Users/jaquelinerufino/Desktop/Estudos/cotacoes/data'\n",
    "\n",
    "caminho += chr(47)\n",
    "\n",
    "import holidays\n",
    "        \n",
    "feriados = holidays.BR()\n",
    "    \n",
    "hoje = datetime.now().date()\n",
    "    \n",
    "mesAno = \"/\" + mes + \"/\" + ano\n",
    "\n",
    "ano = int(ano)\n",
    "mes = int(mes)\n",
    "\n",
    "calendario = calendar.monthcalendar(ano, mes)\n",
    "datas = []\n",
    "for i in calendario:\n",
    "    for j in i:\n",
    "        if (j > 0):\n",
    "            data = str(j) + mesAno\n",
    "            data = datetime.strptime(data,\"%d/%m/%Y\").date()\n",
    "        \n",
    "            if (data.weekday() != 5) and (data.weekday() != 6) and (data not in feriados) and (data < hoje): \n",
    "                datas.append(data)\n",
    "            \n",
    "# return datas\n",
    "\n",
    "# datas = funcoes.removeDataInvalida(ano=ano, mes=mes)"
   ]
  },
  {
   "cell_type": "code",
   "execution_count": null,
   "metadata": {},
   "outputs": [],
   "source": [
    "print(datas)"
   ]
  },
  {
   "cell_type": "code",
   "execution_count": 8,
   "metadata": {},
   "outputs": [
    {
     "data": {
      "text/plain": [
       "True"
      ]
     },
     "execution_count": 8,
     "metadata": {},
     "output_type": "execute_result"
    }
   ],
   "source": [
    "erro = False\n",
    "\n",
    "not erro"
   ]
  },
  {
   "cell_type": "code",
   "execution_count": null,
   "metadata": {},
   "outputs": [],
   "source": []
  }
 ],
 "metadata": {
  "kernelspec": {
   "display_name": "Python 3",
   "language": "python",
   "name": "python3"
  },
  "language_info": {
   "codemirror_mode": {
    "name": "ipython",
    "version": 3
   },
   "file_extension": ".py",
   "mimetype": "text/x-python",
   "name": "python",
   "nbconvert_exporter": "python",
   "pygments_lexer": "ipython3",
   "version": "3.11.2"
  }
 },
 "nbformat": 4,
 "nbformat_minor": 2
}
